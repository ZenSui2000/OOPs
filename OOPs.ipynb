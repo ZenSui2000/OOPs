{
 "cells": [
  {
   "cell_type": "code",
   "execution_count": 1,
   "id": "ebec9a2e-86e2-49e8-9bbe-c9a8e386e769",
   "metadata": {},
   "outputs": [
    {
     "ename": "SyntaxError",
     "evalue": "invalid syntax (3983617403.py, line 1)",
     "output_type": "error",
     "traceback": [
      "\u001b[0;36m  Cell \u001b[0;32mIn[1], line 1\u001b[0;36m\u001b[0m\n\u001b[0;31m    A Class is like an object constructor, or a \"blueprint\" for creating objects. An object is called an instance of a class. Ex -  For example, suppose Bike is a class then we can create objects like bike1 , bike2 , etc from the class.\u001b[0m\n\u001b[0m      ^\u001b[0m\n\u001b[0;31mSyntaxError\u001b[0m\u001b[0;31m:\u001b[0m invalid syntax\n"
     ]
    }
   ],
   "source": [
    "A Class is like an object constructor, or a \"blueprint\" for creating objects. An object is called an instance of a class. Ex -  For example, suppose Bike is a class then we can create objects like bike1 , bike2 , etc from the class."
   ]
  },
  {
   "cell_type": "code",
   "execution_count": null,
   "id": "153a01c4-54cb-4978-adf1-75cfcae89090",
   "metadata": {},
   "outputs": [],
   "source": [
    "The Four Pillars Of OOPs are :\n",
    "Abstraction.\n",
    "Encapsulation.\n",
    "Inheritance.\n",
    "Polymorphism"
   ]
  },
  {
   "cell_type": "code",
   "execution_count": 2,
   "id": "0e3fe67c-7c92-4a38-bc31-a93c54340a56",
   "metadata": {},
   "outputs": [
    {
     "ename": "SyntaxError",
     "evalue": "invalid syntax (629449346.py, line 1)",
     "output_type": "error",
     "traceback": [
      "\u001b[0;36m  Cell \u001b[0;32mIn[2], line 1\u001b[0;36m\u001b[0m\n\u001b[0;31m    The  __init__ is a special python method that runs whenever a new object is created. These types of functions are used to initialize the attributes of that class, E.g., if the class is Person, then the attributes will be name, age, etc.\u001b[0m\n\u001b[0m         ^\u001b[0m\n\u001b[0;31mSyntaxError\u001b[0m\u001b[0;31m:\u001b[0m invalid syntax\n"
     ]
    }
   ],
   "source": [
    "The  __init__ is a special python method that runs whenever a new object is created.These types of functions are used to initialize the attributes of that class, E.g. If the class is Person, then the attributes will be name, age, etc."
   ]
  },
  {
   "cell_type": "code",
   "execution_count": 3,
   "id": "af5222ba-32c9-459f-8dd1-a84891502269",
   "metadata": {},
   "outputs": [
    {
     "ename": "SyntaxError",
     "evalue": "invalid syntax (526173673.py, line 1)",
     "output_type": "error",
     "traceback": [
      "\u001b[0;36m  Cell \u001b[0;32mIn[3], line 1\u001b[0;36m\u001b[0m\n\u001b[0;31m    The self variable is used to represent the instance of the class which is often used in object-oriented programming. It works as a reference to the object.\u001b[0m\n\u001b[0m        ^\u001b[0m\n\u001b[0;31mSyntaxError\u001b[0m\u001b[0;31m:\u001b[0m invalid syntax\n"
     ]
    }
   ],
   "source": [
    "The self variable is used to represent the instance of the class which is often used in object-oriented programming. It works as a reference to the object. "
   ]
  },
  {
   "cell_type": "code",
   "execution_count": null,
   "id": "862b2bf6-f75f-4a29-9986-400041084079",
   "metadata": {},
   "outputs": [],
   "source": [
    "Inheritance is a mechanism in which one class acquires the property of another class. Ex - a child inherits the traits of his/her parents. With inheritance, we can reuse the fields and methods of the existing class. Hence, inheritance facilitates Reusability and is an important concept of OOPs."
   ]
  }
 ],
 "metadata": {
  "kernelspec": {
   "display_name": "Python 3 (ipykernel)",
   "language": "python",
   "name": "python3"
  },
  "language_info": {
   "codemirror_mode": {
    "name": "ipython",
    "version": 3
   },
   "file_extension": ".py",
   "mimetype": "text/x-python",
   "name": "python",
   "nbconvert_exporter": "python",
   "pygments_lexer": "ipython3",
   "version": "3.10.8"
  }
 },
 "nbformat": 4,
 "nbformat_minor": 5
}
